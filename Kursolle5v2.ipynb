{
 "metadata": {
  "language_info": {
   "codemirror_mode": {
    "name": "ipython",
    "version": 3
   },
   "file_extension": ".py",
   "mimetype": "text/x-python",
   "name": "python",
   "nbconvert_exporter": "python",
   "pygments_lexer": "ipython3",
   "version": "3.9.1-final"
  },
  "orig_nbformat": 2,
  "kernelspec": {
   "name": "python3",
   "display_name": "Python 3.9.1 64-bit",
   "metadata": {
    "interpreter": {
     "hash": "05d1bb149cc2fb4afed2d44bf3e21218131befa4015f9b0ac302032f83c5e1b7"
    }
   }
  }
 },
 "nbformat": 4,
 "nbformat_minor": 2,
 "cells": [
  {
   "cell_type": "code",
   "execution_count": null,
   "metadata": {},
   "outputs": [],
   "source": [
    "#Uppgift: m05u01\n",
    "\n",
    "def axel_info():\n",
    "  print('Axel Gjertsson, TE19D, NTI Kronhus!')\n",
    "axel_info()"
   ]
  },
  {
   "cell_type": "code",
   "execution_count": 1,
   "metadata": {},
   "outputs": [
    {
     "output_type": "stream",
     "name": "stdout",
     "text": [
      "Din radie: 7cm\nArean: 153.86cm^2\nOmkretsen: 43.96cm\n"
     ]
    }
   ],
   "source": [
    "#Uppgift: m05u02\n",
    "\n",
    "pi = 3.14\n",
    "\n",
    "radien = int(input(\"Ange en radie: \"))\n",
    "def print_area(R):\n",
    "    print(f\"Arean: {R*R*pi}cm^2\")\n",
    "\n",
    "def print_omkrets(R):\n",
    "    print(f\"Omkretsen: {2*R*pi}cm\")\n",
    "print(f\"Din radie: {radien}cm\")\n",
    "\n",
    "print_area(radien)\n",
    "print_omkrets(radien)\n"
   ]
  },
  {
   "cell_type": "code",
   "execution_count": null,
   "metadata": {},
   "outputs": [],
   "source": [
    "#Uppgift: m05u03\n",
    "\n",
    "pi = 3.14\n",
    "\n",
    "radien = int(input(\"Ange en radie: \"))\n",
    "def print_area(R):\n",
    "    print(f\"Arean: {R*R*pi}cm^2\")\n",
    "\n",
    "def print_omkrets(R):\n",
    "    print(f\"Omkretsen: {2*R*pi}cm\")\n",
    "\n",
    "print_area(radien)\n",
    "print_omkrets(radien)\n"
   ]
  },
  {
   "cell_type": "code",
   "execution_count": 2,
   "metadata": {},
   "outputs": [
    {
     "output_type": "stream",
     "name": "stdout",
     "text": [
      "Din radie: 7.0cm\nArean blir då: 153.86cm^2\nOmkretsen blir: 43.96cm\n"
     ]
    }
   ],
   "source": [
    "#Uppgift: m05u03\n",
    "\n",
    "pi = 3.14\n",
    "radie = float(input(\"Ange en radie: \"))\n",
    "\n",
    "def area(r):\n",
    "    area = r*r*pi\n",
    "    return area\n",
    "\n",
    "def omkrets(r):\n",
    "    return 2*r*pi\n",
    "\n",
    "print(f\"Din radie: {radie}cm\")\n",
    "print(f\"Arean blir då: {area(radie)}cm^2\")\n",
    "print(f\"Omkretsen blir: {omkrets(radie)}cm\")\n",
    "    "
   ]
  },
  {
   "cell_type": "code",
   "execution_count": 3,
   "metadata": {},
   "outputs": [
    {
     "output_type": "stream",
     "name": "stdout",
     "text": [
      "Din radie: 7.0cm\nArean blir då: 153.86cm^2\nOmkretsen blir: 43.96cm\n"
     ]
    }
   ],
   "source": [
    "#Uppgift: m05u05\n",
    "\n",
    "from funktioner_m05u05 import *\n",
    "\n",
    "radie = float(input(\"Ange en radie: \"))\n",
    "\n",
    "print(f\"Din radie: {radie}cm\")\n",
    "print(f\"Arean blir då: {area(radie)}cm^2\")\n",
    "print(f\"Omkretsen blir: {omkrets(radie)}cm\")"
   ]
  },
  {
   "cell_type": "code",
   "execution_count": null,
   "metadata": {},
   "outputs": [],
   "source": [
    "#Uppgift: m05u06\n",
    "\n",
    "from funktioner_m05u05 import *\n",
    "'''Importerar mina funktioner från \"funktioner_m05u05\" dokumentet och gör beräkningar utifrån användarens radie'''\n",
    "\n",
    "radie = float(input(\"Ange en radie: \"))\n",
    "'''Låter användaren ange en radie'''\n",
    "\n",
    "print(f\"Din radie: {radie}cm\")\n",
    "print(f\"Arean blir då: {area(radie)}cm^2\")\n",
    "print(f\"Omkretsen blir: {omkrets(radie)}cm\")\n",
    "'''Printar ut area och omkrets utifrån den angivna radien'''"
   ]
  },
  {
   "cell_type": "code",
   "execution_count": 1,
   "metadata": {},
   "outputs": [
    {
     "output_type": "stream",
     "name": "stdout",
     "text": [
      "*\n**\n***\n****\n*****\n******\n*******\n********\n*********\n**********\n\nHo, Ho, Ho!\nJullovet är nära!\n"
     ]
    }
   ],
   "source": [
    "from m05u07_funktioner import *\n",
    "julgran(10)\n",
    "tomten()"
   ]
  },
  {
   "cell_type": "code",
   "execution_count": 3,
   "metadata": {},
   "outputs": [
    {
     "output_type": "error",
     "ename": "ValueError",
     "evalue": "invalid literal for int() with base 10: 'Jones|44\\n'",
     "traceback": [
      "\u001b[1;31m---------------------------------------------------------------------------\u001b[0m",
      "\u001b[1;31mValueError\u001b[0m                                Traceback (most recent call last)",
      "\u001b[1;32m<ipython-input-3-4e2564ab3191>\u001b[0m in \u001b[0;36m<module>\u001b[1;34m\u001b[0m\n\u001b[0;32m      5\u001b[0m     \u001b[1;32mfor\u001b[0m \u001b[0mrad\u001b[0m \u001b[1;32min\u001b[0m \u001b[0mf\u001b[0m\u001b[1;33m:\u001b[0m\u001b[1;33m\u001b[0m\u001b[1;33m\u001b[0m\u001b[0m\n\u001b[0;32m      6\u001b[0m         \u001b[1;32mif\u001b[0m \u001b[0mlen\u001b[0m\u001b[1;33m(\u001b[0m\u001b[0mrad\u001b[0m\u001b[1;33m)\u001b[0m \u001b[1;33m>\u001b[0m \u001b[1;36m1\u001b[0m\u001b[1;33m:\u001b[0m\u001b[1;33m\u001b[0m\u001b[1;33m\u001b[0m\u001b[0m\n\u001b[1;32m----> 7\u001b[1;33m             \u001b[0mlista\u001b[0m\u001b[1;33m.\u001b[0m\u001b[0mappend\u001b[0m\u001b[1;33m(\u001b[0m\u001b[0mint\u001b[0m\u001b[1;33m(\u001b[0m\u001b[0mrad\u001b[0m\u001b[1;33m)\u001b[0m\u001b[1;33m)\u001b[0m\u001b[1;33m\u001b[0m\u001b[1;33m\u001b[0m\u001b[0m\n\u001b[0m\u001b[0;32m      8\u001b[0m \u001b[1;33m\u001b[0m\u001b[0m\n\u001b[0;32m      9\u001b[0m \u001b[0mlist\u001b[0m\u001b[1;33m.\u001b[0m\u001b[0msort\u001b[0m\u001b[1;33m(\u001b[0m\u001b[1;33m)\u001b[0m\u001b[1;33m\u001b[0m\u001b[1;33m\u001b[0m\u001b[0m\n",
      "\u001b[1;31mValueError\u001b[0m: invalid literal for int() with base 10: 'Jones|44\\n'"
     ]
    }
   ],
   "source": [
    "fil = 'provpoäng.txt'\n",
    "lista = []\n",
    "\n",
    "with open(fil) as f:\n",
    "    for rad in f:\n",
    "        if len(rad) > 1:\n",
    "            lista.append(int(rad))\n",
    "\n",
    "list.sort()\n",
    "\n",
    "print(f\"Listan sorterad: {lista}\")\n",
    "print(f\"Antalet räknade resultat: {len(lista)}st.\")\n",
    "print(f\"Medelvärdet av resultaten: {sum(lista)/len(lista)}\")"
   ]
  },
  {
   "cell_type": "code",
   "execution_count": 5,
   "metadata": {},
   "outputs": [
    {
     "output_type": "stream",
     "name": "stdout",
     "text": [
      "1 2 3\n4 5 6\n7 8 9\n\nHär var det rutigt!\n"
     ]
    }
   ],
   "source": [
    "with open('utskrift.txt', 'w') as fw: #öppnar 'utskrift.txt' med 'w'\n",
    "  fw.write('''1 2 3\n",
    "4 5 6\n",
    "7 8 9\n",
    "''') #skriver ut siffror som fw\n",
    "  fw.write('\\nHär var det rutigt!') #Ny rad och text\n",
    "with open('utskrift.txt', 'r') as fr: #öppnar vårat dokument som fw\n",
    "  print(fr.read())#printar allt vi har 'läst' än så länge med fw.write"
   ]
  },
  {
   "cell_type": "code",
   "execution_count": 12,
   "metadata": {},
   "outputs": [
    {
     "output_type": "stream",
     "name": "stdout",
     "text": [
      "Efter 1 kommer pengarna att vara värda  10300\nEfter 2 kommer pengarna att vara värda  10609\nEfter 3 kommer pengarna att vara värda  10927\nEfter 4 kommer pengarna att vara värda  11255\nEfter 5 kommer pengarna att vara värda  11593\nEfter 6 kommer pengarna att vara värda  11941\nEfter 7 kommer pengarna att vara värda  12299\nEfter 8 kommer pengarna att vara värda  12668\nEfter 9 kommer pengarna att vara värda  13048\nEfter 10 kommer pengarna att vara värda  13439\nEfter 11 kommer pengarna att vara värda  13842\nEfter 12 kommer pengarna att vara värda  14258\nEfter 13 kommer pengarna att vara värda  14685\nEfter 14 kommer pengarna att vara värda  15126\nEfter 15 kommer pengarna att vara värda  15580\n\n"
     ]
    }
   ],
   "source": [
    "saldo = 10000\n",
    "ränta = 1.03\n",
    "år = 0\n",
    "    \n",
    "with open(fil, 'w') as f:\n",
    "    for år in range (1, 16):\n",
    "        saldo *= ränta\n",
    "        f.write(f\"Efter {år:1d} kommer pengarna att vara värda  {saldo:.0f}\\n\")\n",
    "\n",
    "with open(fil) as f:\n",
    "    print(f.read())\n",
    "    \n",
    "        \n",
    "        "
   ]
  },
  {
   "cell_type": "code",
   "execution_count": null,
   "metadata": {},
   "outputs": [],
   "source": []
  }
 ]
}
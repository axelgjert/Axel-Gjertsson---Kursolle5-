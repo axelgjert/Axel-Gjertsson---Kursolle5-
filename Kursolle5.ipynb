{
 "metadata": {
  "language_info": {
   "codemirror_mode": {
    "name": "ipython",
    "version": 3
   },
   "file_extension": ".py",
   "mimetype": "text/x-python",
   "name": "python",
   "nbconvert_exporter": "python",
   "pygments_lexer": "ipython3",
   "version": "3.9.1-final"
  },
  "orig_nbformat": 2,
  "kernelspec": {
   "name": "python3",
   "display_name": "Python 3.9.1 64-bit",
   "metadata": {
    "interpreter": {
     "hash": "05d1bb149cc2fb4afed2d44bf3e21218131befa4015f9b0ac302032f83c5e1b7"
    }
   }
  }
 },
 "nbformat": 4,
 "nbformat_minor": 2,
 "cells": [
  {
   "cell_type": "code",
   "execution_count": null,
   "metadata": {},
   "outputs": [],
   "source": [
    "#Correct\n",
    "def hello_world():\n",
    "  print('Hello, World!')\n",
    "hello_world()"
   ]
  },
  {
   "cell_type": "code",
   "execution_count": null,
   "metadata": {},
   "outputs": [],
   "source": [
    "#Wrong\n",
    "hello_world()\n",
    "def hello_world():\n",
    "  print('Hello, World!')"
   ]
  },
  {
   "cell_type": "code",
   "execution_count": 1,
   "metadata": {},
   "outputs": [
    {
     "output_type": "stream",
     "name": "stdout",
     "text": [
      "Axel Gjertsson, TE19D, NTI Kronhus\n"
     ]
    }
   ],
   "source": [
    "#Uppgift: m05u01\n",
    "\n",
    "def info():\n",
    "    print('Axel Gjertsson, TE19D, NTI Kronhus')\n",
    "\n",
    "info()"
   ]
  },
  {
   "cell_type": "code",
   "execution_count": 4,
   "metadata": {},
   "outputs": [
    {
     "output_type": "stream",
     "name": "stdout",
     "text": [
      "Radien: 7.0cm\nArean blir: 153.86cm^2\nOmkretsen blir: 43.96cm.\n"
     ]
    }
   ],
   "source": [
    "#Uppgift: m05u02\n",
    "pi = 3.14\n",
    "\n",
    "def print_area(R):\n",
    "    print(f\"Arean blir: {R*R*pi}cm^2\")\n",
    "\n",
    "def print_omkrets(R):\n",
    "    print(f\"Omkretsen blir: {2*R*pi}cm.\")\n",
    "\n",
    "radien = float(input(\"Ange en radie i centimeter: \"))\n",
    "print(f\"Radien: {radien}cm\")\n",
    "print_area(radien)\n",
    "print_omkrets(radien)"
   ]
  },
  {
   "cell_type": "code",
   "execution_count": 6,
   "metadata": {},
   "outputs": [
    {
     "output_type": "stream",
     "name": "stdout",
     "text": [
      "Arean med radien 7.0 blir: 153.86cm^2\nOmkretsen med din radie blir: 43.96cm.\n"
     ]
    }
   ],
   "source": [
    "#Uppgift m05u03\n",
    "\n",
    "pi = 3.14\n",
    "\n",
    "def print_area(R):\n",
    "    print(f\"Arean med radien {radien} är: {R*R*pi}cm^2\")\n",
    "\n",
    "def print_omkrets(R):\n",
    "    print(f\"Omkretsen med din radie blir: {2*R*pi}cm.\")\n",
    "\n",
    "radien = float(input(\"Ange en radie i centimeter: \"))\n",
    "\n",
    "print_area(radien)\n",
    "print_omkrets(radien)"
   ]
  },
  {
   "cell_type": "code",
   "execution_count": 8,
   "metadata": {},
   "outputs": [
    {
     "output_type": "error",
     "ename": "NameError",
     "evalue": "name 'R' is not defined",
     "traceback": [
      "\u001b[1;31m---------------------------------------------------------------------------\u001b[0m",
      "\u001b[1;31mNameError\u001b[0m                                 Traceback (most recent call last)",
      "\u001b[1;32m<ipython-input-8-65ae8246df75>\u001b[0m in \u001b[0;36m<module>\u001b[1;34m\u001b[0m\n\u001b[0;32m      5\u001b[0m \u001b[0mradien\u001b[0m \u001b[1;33m=\u001b[0m \u001b[0mfloat\u001b[0m\u001b[1;33m(\u001b[0m\u001b[0minput\u001b[0m\u001b[1;33m(\u001b[0m\u001b[1;34m\"Ange en radie i centimeter: \"\u001b[0m\u001b[1;33m)\u001b[0m\u001b[1;33m)\u001b[0m\u001b[1;33m\u001b[0m\u001b[1;33m\u001b[0m\u001b[0m\n\u001b[0;32m      6\u001b[0m \u001b[1;33m\u001b[0m\u001b[0m\n\u001b[1;32m----> 7\u001b[1;33m \u001b[0mprint\u001b[0m\u001b[1;33m(\u001b[0m\u001b[1;34mf\"Arean blir: {R*R*pi}cm^2\"\u001b[0m\u001b[1;33m)\u001b[0m\u001b[1;33m\u001b[0m\u001b[1;33m\u001b[0m\u001b[0m\n\u001b[0m\u001b[0;32m      8\u001b[0m \u001b[0mprint\u001b[0m\u001b[1;33m(\u001b[0m\u001b[1;34mf\"Omkretsen blir: {2*R*pi}cm.\"\u001b[0m\u001b[1;33m)\u001b[0m\u001b[1;33m\u001b[0m\u001b[1;33m\u001b[0m\u001b[0m\n\u001b[0;32m      9\u001b[0m \u001b[0mprint\u001b[0m\u001b[1;33m(\u001b[0m\u001b[1;34mf\"Radien: {radien}cm\"\u001b[0m\u001b[1;33m)\u001b[0m\u001b[1;33m\u001b[0m\u001b[1;33m\u001b[0m\u001b[0m\n",
      "\u001b[1;31mNameError\u001b[0m: name 'R' is not defined"
     ]
    }
   ],
   "source": [
    "#Uppgift: m05u05\n",
    "\n",
    "from funktioner_m05u05 import*\n",
    "\n",
    "radien = float(input(\"Ange en radie i centimeter: \"))\n",
    "\n",
    "print(f\"Arean blir: {R*R*pi}cm^2\")\n",
    "print(f\"Omkretsen blir: {2*R*pi}cm.\")\n",
    "print(f\"Radien: {radien}cm\")"
   ]
  },
  {
   "cell_type": "code",
   "execution_count": null,
   "metadata": {},
   "outputs": [],
   "source": [
    "#Uppgift: m05u06\n",
    "\n",
    "from funktioner_m05u05 import*\n",
    "\"\"\"Importerar funktioner från ett annat dokument\"\"\"\n",
    "\n",
    "radien = float(input(\"Ange en radie i centimeter: \"))\n",
    "\"\"\"Frågar användaren om en radie vi använder oss av i funktionerna\"\"\"\n",
    "\n",
    "print(f\"Arean blir: {R*R*pi}cm^2\")\n",
    "print(f\"Omkretsen blir: {2*R*pi}cm.\")\n",
    "print(f\"Radien: {radien}cm\")\n",
    "\"\"\"Printar ut svar på funktionerna\"\"\""
   ]
  }
 ]
}